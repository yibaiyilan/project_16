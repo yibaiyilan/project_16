{
 "cells": [
  {
   "cell_type": "markdown",
   "id": "e079f753-5294-4622-b4ae-0b9db6d12926",
   "metadata": {},
   "source": [
    "# Searching for the optimal parameters"
   ]
  },
  {
   "cell_type": "code",
   "execution_count": 1,
   "id": "0470e27c",
   "metadata": {},
   "outputs": [
    {
     "name": "stderr",
     "output_type": "stream",
     "text": [
      "/home/studio-lab-user/.conda/envs/default/lib/python3.9/site-packages/xgboost/compat.py:36: FutureWarning: pandas.Int64Index is deprecated and will be removed from pandas in a future version. Use pandas.Index with the appropriate dtype instead.\n",
      "  from pandas import MultiIndex, Int64Index\n"
     ]
    }
   ],
   "source": [
    "from xgboost import XGBClassifier\n",
    "from sklearn.ensemble import RandomForestClassifier\n",
    "from sklearn.tree import DecisionTreeClassifier\n",
    "from sklearn.model_selection import train_test_split\n",
    "from sklearn.preprocessing import StandardScaler, Normalizer\n",
    "from sklearn import metrics\n",
    "import numpy as np\n",
    "import pandas as pd\n",
    "import pickle\n",
    "from sklearn.datasets import fetch_openml"
   ]
  },
  {
   "cell_type": "code",
   "execution_count": 2,
   "id": "1fdedffb-8501-4263-b581-4d58f81da922",
   "metadata": {},
   "outputs": [],
   "source": [
    "from sklearn.model_selection import GridSearchCV"
   ]
  },
  {
   "cell_type": "code",
   "execution_count": 3,
   "id": "6d86048f",
   "metadata": {},
   "outputs": [
    {
     "data": {
      "text/plain": [
       "dict_keys(['data', 'target', 'frame', 'categories', 'feature_names', 'target_names', 'DESCR', 'details', 'url'])"
      ]
     },
     "execution_count": 3,
     "metadata": {},
     "output_type": "execute_result"
    }
   ],
   "source": [
    "# import the mnist dataset\n",
    "mnist = fetch_openml('mnist_784', version=1)\n",
    "mnist.keys()"
   ]
  },
  {
   "cell_type": "code",
   "execution_count": 4,
   "id": "cb79c0e1",
   "metadata": {},
   "outputs": [
    {
     "name": "stdout",
     "output_type": "stream",
     "text": [
      "(70000, 784)\n",
      "(70000,)\n"
     ]
    }
   ],
   "source": [
    "# separate features and target\n",
    "X, y = mnist[\"data\"], mnist[\"target\"]\n",
    "print(X.shape)\n",
    "print(y.shape)"
   ]
  },
  {
   "cell_type": "code",
   "execution_count": 5,
   "id": "b5a063aa",
   "metadata": {},
   "outputs": [],
   "source": [
    "# train-test split\n",
    "X_train, X_test, y_train, y_test = train_test_split(X, y, \n",
    "                                       test_size=0.2, \n",
    "                                       random_state=42)"
   ]
  },
  {
   "cell_type": "markdown",
   "id": "defd780a-cb8f-4d53-b4f0-7211c0755cb5",
   "metadata": {},
   "source": [
    "## Preprocessing"
   ]
  },
  {
   "cell_type": "code",
   "execution_count": 6,
   "id": "a6a2f1b4",
   "metadata": {},
   "outputs": [],
   "source": [
    "# standardize\n",
    "scaler = StandardScaler()\n",
    "X_train_scaled = scaler.fit_transform(X_train)\n",
    "X_test_scaled = scaler.transform(X_test)"
   ]
  },
  {
   "cell_type": "markdown",
   "id": "a09061db",
   "metadata": {},
   "source": [
    "## Random Forest"
   ]
  },
  {
   "cell_type": "code",
   "execution_count": 7,
   "id": "319596ee",
   "metadata": {},
   "outputs": [],
   "source": [
    "# modeling: random forest (arbitrary hyperparameters)\n",
    "model = RandomForestClassifier()"
   ]
  },
  {
   "cell_type": "code",
   "execution_count": 16,
   "id": "45b5cad4-8b16-4424-a4db-a1f3bc950fa3",
   "metadata": {},
   "outputs": [],
   "source": [
    "# define your parameter grid \n",
    "param_grid = {\n",
    "                'max_depth': [5, 10, 15], \n",
    "                'criterion': ['entropy', 'gini'],\n",
    "                'min_samples_leaf': [6, 10, 20],\n",
    "                'class_weight':['balanced', None],\n",
    "                'n_estimators': [50, 100, 200]\n",
    "            }"
   ]
  },
  {
   "cell_type": "code",
   "execution_count": 9,
   "id": "18d6984c-81ba-49a5-b219-db6ab07fa8e7",
   "metadata": {},
   "outputs": [],
   "source": [
    "# establish cross-validation and gridsearch\n",
    "rf_grid = GridSearchCV(model, param_grid, cv=10, verbose=1,n_jobs=-1)"
   ]
  },
  {
   "cell_type": "code",
   "execution_count": 10,
   "id": "b8456195-3634-4d79-8665-22f77200ea53",
   "metadata": {},
   "outputs": [
    {
     "name": "stdout",
     "output_type": "stream",
     "text": [
      "Fitting 10 folds for each of 108 candidates, totalling 1080 fits\n"
     ]
    },
    {
     "data": {
      "text/plain": [
       "GridSearchCV(cv=10, estimator=RandomForestClassifier(), n_jobs=-1,\n",
       "             param_grid={'class_weight': ['balanced', None],\n",
       "                         'criterion': ['entropy', 'gini'],\n",
       "                         'max_depth': [5, 10, 15],\n",
       "                         'min_samples_leaf': [6, 10, 20],\n",
       "                         'n_estimators': [50, 100, 200]},\n",
       "             verbose=1)"
      ]
     },
     "execution_count": 10,
     "metadata": {},
     "output_type": "execute_result"
    }
   ],
   "source": [
    "# conduct the search (this cell will take a very long time!)\n",
    "rf_grid.fit(X_train_scaled, y_train)"
   ]
  },
  {
   "cell_type": "code",
   "execution_count": null,
   "id": "d40c27d3-773a-4e2c-bf6e-4ccb7c601efa",
   "metadata": {},
   "outputs": [
    {
     "name": "stdout",
     "output_type": "stream",
     "text": [
      "Best parameters:\n",
      "{'class_weight': None, 'criterion': 'entropy', 'max_depth': 15, 'min_samples_leaf': 6, 'n_estimators': 200}\n",
      "Best score in grid search:\n",
      "0.9612321428571426\n",
      "best model from grid search:\n",
      "0.9602857142857143\n"
     ]
    }
   ],
   "source": [
    "# see the best parameters and their score\n",
    "print(\"Best parameters:\")\n",
    "print(rf_grid.best_params_)\n",
    "print(\"Best score in grid search:\")\n",
    "print(rf_grid.best_score_)\n",
    "print(\"best model from grid search:\")\n",
    "print(rf_grid.score(X_test_scaled, y_test))"
   ]
  },
  {
   "cell_type": "code",
   "execution_count": null,
   "id": "e321d6f8-2ae8-4544-ae4a-b0c800ac1240",
   "metadata": {},
   "outputs": [
    {
     "name": "stdout",
     "output_type": "stream",
     "text": [
      "['8', '4', '8', '7', '7', '0', '6', '2', '7', '4']\n",
      "['8', '4', '8', '7', '7', '0', '6', '2', '7', '4']\n"
     ]
    }
   ],
   "source": [
    "# predict\n",
    "y_preds=rf_grid.predict(X_test_scaled)\n",
    "print(list(y_preds[:10]))\n",
    "print(list(y_test[:10]))"
   ]
  },
  {
   "cell_type": "code",
   "execution_count": null,
   "id": "42ce1228-4ba1-42dd-9ab1-5f43ff2be70f",
   "metadata": {},
   "outputs": [
    {
     "name": "stdout",
     "output_type": "stream",
     "text": [
      "Accuracy: 0.9602857142857143\n",
      "Precision: 0.9601639657486638\n",
      "Recall: 0.9599957071520914\n",
      "F1 Score: 0.9600641853678964\n"
     ]
    }
   ],
   "source": [
    "# evaluate\n",
    "print('Accuracy:', metrics.accuracy_score(y_test, y_preds))\n",
    "print('Precision:', metrics.precision_score(y_test, y_preds,average='macro'))\n",
    "print('Recall:', metrics.recall_score(y_test, y_preds,average='macro'))\n",
    "print('F1 Score:', metrics.f1_score(y_test, y_preds,average='macro'))"
   ]
  },
  {
   "cell_type": "markdown",
   "id": "5f5a6dac-1823-490e-9be8-e7229a1d3fb4",
   "metadata": {},
   "source": [
    "## Pickle the model"
   ]
  },
  {
   "cell_type": "code",
   "execution_count": null,
   "id": "ebba2d91-cf2e-4fd3-b33f-003f03e0f67a",
   "metadata": {},
   "outputs": [],
   "source": [
    "# random forest\n",
    "f = open('rf_grid_model.pkl', 'wb')\n",
    "pickle.dump(rf_grid, f)\n",
    "f.close() "
   ]
  }
 ],
 "metadata": {
  "kernelspec": {
   "display_name": "default:Python",
   "language": "python",
   "name": "conda-env-default-py"
  },
  "language_info": {
   "codemirror_mode": {
    "name": "ipython",
    "version": 3
   },
   "file_extension": ".py",
   "mimetype": "text/x-python",
   "name": "python",
   "nbconvert_exporter": "python",
   "pygments_lexer": "ipython3",
   "version": "3.9.10"
  }
 },
 "nbformat": 4,
 "nbformat_minor": 5
}
